{
  "nbformat": 4,
  "nbformat_minor": 0,
  "metadata": {
    "colab": {
      "private_outputs": true,
      "provenance": [],
      "authorship_tag": "ABX9TyPbkUbrA3m2umTCzdV7icHq",
      "include_colab_link": true
    },
    "kernelspec": {
      "name": "python3",
      "display_name": "Python 3"
    },
    "language_info": {
      "name": "python"
    }
  },
  "cells": [
    {
      "cell_type": "markdown",
      "metadata": {
        "id": "view-in-github",
        "colab_type": "text"
      },
      "source": [
        "<a href=\"https://colab.research.google.com/github/joaochenriques/Train/blob/main/Suspensao_V03.ipynb\" target=\"_parent\"><img src=\"https://colab.research.google.com/assets/colab-badge.svg\" alt=\"Open In Colab\"/></a>"
      ]
    },
    {
      "cell_type": "code",
      "execution_count": null,
      "metadata": {
        "id": "EIn-uubM2MDh"
      },
      "outputs": [],
      "source": [
        "from sympy import *\n",
        "from sympy.printing.lambdarepr import lambdarepr\n",
        "init_printing() \n",
        "from IPython.display import Math\n",
        "from scipy.integrate import odeint\n",
        "import numpy as np\n",
        "\n",
        "from IPython.display import Markdown, display\n",
        "\n",
        "def printmd(string):\n",
        "    display(Markdown(string))"
      ]
    },
    {
      "cell_type": "code",
      "source": [
        "import pathlib, subprocess\n",
        "import matplotlib.pyplot as mpl\n",
        "\n",
        "def cmdcall( cmd, verbose=True ):\n",
        "    output = subprocess.getoutput( cmd )\n",
        "    if verbose: print(output)\n",
        "\n",
        "if not pathlib.Path(\"mpl_utils.py\").exists():\n",
        "    cmdcall( \"curl -O https://raw.githubusercontent.com/joaochenriques/ipynb_libs/main/mpl_utils.py\" ) \n",
        "\n",
        "import mpl_utils as mut\n",
        "mut.config_plots()\n",
        "\n",
        "from matplotlib_inline.backend_inline import set_matplotlib_formats\n",
        "set_matplotlib_formats('svg')\n",
        "\n",
        "mpl.rcParams[\"figure.figsize\"] = (6,4.5)"
      ],
      "metadata": {
        "id": "UGsCa_0PRJlR"
      },
      "execution_count": null,
      "outputs": []
    },
    {
      "cell_type": "code",
      "source": [
        "t, ξ_0, ξ_1, ξ_2 = symbols( r\"t, \\xi_0, \\xi_1, \\xi_2\" )\n",
        "z_F1, z_F2, z_41, y_F1, y_F2 = symbols( r\"z_{F1}, z_{F2}, z_{41}, y_{F1}, y_{F2}\" )\n",
        "h, h_z, ℓ_4, h_4, k_4, M, g, a_z, θ_0, I_θθ = symbols( r\"h, h_z, \\ell_4, h_4, k_4, M, g, a_z, \\theta_0, I_{\\theta\\theta}\" )\n",
        "δ_y1, δ_z1, δ_y2, δ_z2, δ_ZM, δ_YM, θ = symbols( r\"\\delta_{y1}, \\delta_{z1}, \\delta_{y2}, \\delta_{z2}, \\delta_{ZM}, \\delta_{YM}, \\theta\" )\n",
        "F, ΔF, F_1, F_2, F_1y, F_1z, F_2y, F_2z, y_Fz, z_Fz = symbols( r\"F, \\Delta{F}, F_1, F_2, F_{1y}, F_{1z}, F_{2y}, F_{2z}, y_{Fz}, z_{Fz}\" )\n",
        "F_z = symbols( r\"F_z\" )\n",
        "v_1, v_2, v_3 = symbols( r\"v_1, v_2, v_3\" )"
      ],
      "metadata": {
        "id": "wwb5txYe2N78"
      },
      "execution_count": null,
      "outputs": []
    },
    {
      "cell_type": "code",
      "source": [
        "deg2rad = pi / 180\n",
        "\n",
        "reps = { \n",
        "    ℓ_4: 0.7,\n",
        "    h_4: 0.5,\n",
        "    ξ_0: 0.5,\n",
        "    k_4: 1E5,\n",
        "    θ_0: 20*deg2rad,\n",
        "    h: 1.2,\n",
        "    h_z: 0.5,\n",
        "    M: 13000/2,\n",
        "    g: 9.8,\n",
        "    a_z: 2,\n",
        "    F_z: 1100,\n",
        "    I_θθ: 14400,\n",
        "    #\n",
        "    ξ_1: sqrt( (z_F1 + ℓ_4)**2 + (y_F1-h_4)**2 ),\n",
        "    ξ_2: sqrt( (z_F2 - ℓ_4)**2 + (y_F2 - h_4)**2 ),\n",
        "    #\n",
        "    F_1: k_4 * (ξ_0 - ξ_1) + M * g / ( 2 * cos(θ_0) ),\n",
        "    F_2: k_4 * (ξ_0 - ξ_2) + M * g / ( 2 * cos(θ_0) ),\n",
        "    F: (F_1 + F_2 ) / 2,\n",
        "    ΔF: F_1 - F,\n",
        "    #\n",
        "    z_F1: δ_ZM + (h - (h_4+ξ_0*cos(θ_0) ) )*sin(θ) - ( ℓ_4 - ξ_0*sin(θ_0) )*cos(θ),\n",
        "    z_F2: δ_ZM + (h - (h_4+ξ_0*cos(θ_0) ) )*sin(θ) + ( ℓ_4 - ξ_0*sin(θ_0) )*cos(θ),\n",
        "    y_F1: h + δ_YM - (h - (h_4+ξ_0*cos(θ_0) ) )*cos(θ) - ( ℓ_4 - ξ_0*sin(θ_0) )*sin(θ),\n",
        "    y_F2: h + δ_YM - (h - (h_4+ξ_0*cos(θ_0) ) )*cos(θ) + ( ℓ_4 - ξ_0*sin(θ_0) )*sin(θ),\n",
        "    z_Fz: δ_ZM + (h - h_z )*sin(θ),\n",
        "    y_Fz: h + δ_YM - (h - h_z )*cos(θ),\n",
        "    #\n",
        "    F_1z: F_1 * sin(θ_0 - θ),\n",
        "    F_2z: F_2 * sin(θ_0 + θ),\n",
        "    F_1y: F_1 * cos(θ_0 - θ),\n",
        "    F_2y: F_2 * cos(θ_0 + θ),\n",
        "    #\n",
        "    δ_z1: δ_ZM - z_F1,\n",
        "    δ_y1: h + δ_YM - y_F1,\n",
        "    δ_z2: -δ_ZM + z_F2,\n",
        "    δ_y2: h + δ_YM - y_F2\n",
        "}\n",
        "for key, values in reps.items():\n",
        "    printmd( '$%s = %s$' % (latex(key), latex(values) ) )"
      ],
      "metadata": {
        "id": "GHRe_HKZ47SC"
      },
      "execution_count": null,
      "outputs": []
    },
    {
      "cell_type": "code",
      "source": [
        "Exp1 = (F_1z - F_2z - F_z + M * a_z) / M\n",
        "RHS1 = Exp1.subs( reps ).subs( reps ).subs( reps )\n",
        "RHS1"
      ],
      "metadata": {
        "id": "sYmMQpuiAwFg"
      },
      "execution_count": null,
      "outputs": []
    },
    {
      "cell_type": "code",
      "source": [
        "Exp2 = (F_1y + F_2y - M * g) / M \n",
        "RHS2 = Exp2.subs( reps ).subs( reps ).subs( reps )\n",
        "RHS2"
      ],
      "metadata": {
        "id": "_Wjf4fyxB6qH"
      },
      "execution_count": null,
      "outputs": []
    },
    {
      "cell_type": "code",
      "source": [
        "Exp3 = -(F_1y*δ_z1 - F_1z*δ_y1 - F_2y*δ_z2 + F_2z*δ_y2 + F_z*(h - h_z)*cos(θ))/I_θθ \n",
        "RHS3 = Exp3.subs( reps ).subs( reps ).subs( reps )\n",
        "RHS3"
      ],
      "metadata": {
        "id": "BcLK2TgwCMhk"
      },
      "execution_count": null,
      "outputs": []
    },
    {
      "cell_type": "code",
      "source": [
        "U = [ v_1, v_2, v_3, δ_ZM, δ_YM, θ ]\n",
        "func = lambdify( (U,t), [ RHS1, RHS2, RHS3, v_1, v_2, v_3 ] )\n",
        "U0 = [0,0,0,0,0,0]\n",
        "times = np.linspace(0, 10, 1001)\n",
        "\n",
        "solution = odeint( func, U0, times ).T"
      ],
      "metadata": {
        "id": "-QwTlVBuCmIT"
      },
      "execution_count": null,
      "outputs": []
    },
    {
      "cell_type": "code",
      "source": [
        "fig, ax1 = mpl.subplots()\n",
        "\n",
        "mpl.plot( times, solution[3], label=r'$\\delta_{ZM}$' )\n",
        "mpl.plot( times, solution[4], label=r'$\\delta_{YM}$' )\n",
        "mpl.ylabel( r'$\\delta$')\n",
        "mpl.legend(loc='lower left');\n",
        "\n",
        "ax2 = ax1.twinx() \n",
        "ax2.plot( times, solution[5]/deg2rad, 'g-', dashes = (5,1,1,1), label=r'$\\theta$' )\n",
        "ax2.set_ylabel( r'$\\theta$' )\n",
        "mpl.legend(loc='upper left');"
      ],
      "metadata": {
        "id": "yqYQwtRwJnt3"
      },
      "execution_count": null,
      "outputs": []
    },
    {
      "cell_type": "code",
      "source": [],
      "metadata": {
        "id": "7UCsAJyEbqAX"
      },
      "execution_count": null,
      "outputs": []
    }
  ]
}